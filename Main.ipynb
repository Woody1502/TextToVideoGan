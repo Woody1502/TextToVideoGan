{
 "cells": [
  {
   "cell_type": "code",
   "execution_count": 1,
   "metadata": {},
   "outputs": [],
   "source": [
    "import pandas as pd\n",
    "import torch.nn as nn\n",
    "import nltk\n",
    "import glob\n",
    "import torchvision\n",
    "from torchvision.io import read_video\n",
    "from torchvision.io import VideoReader\n",
    "import os\n",
    "from torch.utils.data import Dataset, DataLoader\n",
    "import cv2\n",
    "import gc\n",
    "import skvideo.io\n",
    "from gensim.models import Word2Vec\n",
    "from nltk.tokenize import word_tokenize\n",
    "from nltk.tag import pos_tag\n",
    "import numpy as np\n",
    "from torchsummary import summary\n",
    "import torch\n",
    "np.float = np.float64\n",
    "np.int = np.int_\n",
    "from nltk.corpus import stopwords\n",
    "from tools import categorize_words, Discriminator_I, Discriminator_V, Generator_I, LSTM, list_files,display_video,video_to_tensor\n",
    "df=pd.read_csv('/home/alex/Рабочий стол/GAN/OpenVid-1M.csv')"
   ]
  },
  {
   "cell_type": "code",
   "execution_count": 2,
   "metadata": {},
   "outputs": [],
   "source": [
    "device = torch.device('cuda' if torch.cuda.is_available() else 'cpu')"
   ]
  },
  {
   "cell_type": "code",
   "execution_count": 3,
   "metadata": {},
   "outputs": [],
   "source": [
    "stop_words = set(stopwords.words('english'))"
   ]
  },
  {
   "cell_type": "code",
   "execution_count": 4,
   "metadata": {},
   "outputs": [],
   "source": [
    "from gensim.models.keyedvectors import KeyedVectors\n",
    "wv_embeddings = KeyedVectors.load_word2vec_format(\"/home/alex/Рабочий стол/GAN/SO_vectors_200.bin?download=1\", binary=True)"
   ]
  },
  {
   "cell_type": "code",
   "execution_count": 5,
   "metadata": {},
   "outputs": [
    {
     "name": "stderr",
     "output_type": "stream",
     "text": [
      "[nltk_data] Downloading package punkt to /home/alex/nltk_data...\n",
      "[nltk_data]   Package punkt is already up-to-date!\n",
      "[nltk_data] Downloading package stopwords to /home/alex/nltk_data...\n",
      "[nltk_data]   Package stopwords is already up-to-date!\n"
     ]
    },
    {
     "data": {
      "text/plain": [
       "True"
      ]
     },
     "execution_count": 5,
     "metadata": {},
     "output_type": "execute_result"
    }
   ],
   "source": [
    "# Загрузка необходимых ресурсов\n",
    "nltk.download('punkt')\n",
    "nltk.download('stopwords')"
   ]
  },
  {
   "cell_type": "code",
   "execution_count": 6,
   "metadata": {},
   "outputs": [],
   "source": [
    "list_of_vid=list_files('/home/alex/Рабочий стол/GAN/video')\n",
    "filtered_df = df[df['path'].isin(list_of_vid)]\n",
    "filtered_df =filtered_df.reset_index(drop=True)"
   ]
  },
  {
   "cell_type": "code",
   "execution_count": 7,
   "metadata": {},
   "outputs": [],
   "source": [
    "class VideoDataset(Dataset):\n",
    "    def __init__(self, csv):\n",
    "        \"\"\"\n",
    "        Args:\n",
    "            csv_file (string): Путь к CSV файлу с адресами видео и их описанием.\n",
    "        \"\"\"\n",
    "        self.data= csv\n",
    "\n",
    "    def __len__(self):\n",
    "        \"\"\"Возвращает количество строк в датафрейме.\"\"\"\n",
    "        return len(self.data)\n",
    "\n",
    "    def __getitem__(self, idx):\n",
    "        \"\"\"\n",
    "        Args:\n",
    "            idx (int): Индекс строки в датафрейме.\n",
    "\n",
    "        Returns:\n",
    "            sample (dict): Словарь с адресом видео и его описанием.\n",
    "        \"\"\"\n",
    "        if torch.is_tensor(idx):\n",
    "            idx = idx.tolist()\n",
    "\n",
    "        video_path = self.data['path'][idx]\n",
    "        description = self.data['text'][idx]\n",
    "       \n",
    "\n",
    "        return video_path,description#categorize_words(description,wv_embeddings,device,stop_words)"
   ]
  },
  {
   "cell_type": "code",
   "execution_count": 8,
   "metadata": {},
   "outputs": [],
   "source": [
    "dataset=VideoDataset(filtered_df)"
   ]
  },
  {
   "cell_type": "code",
   "execution_count": 9,
   "metadata": {},
   "outputs": [],
   "source": [
    "data_loader = torch.utils.data.DataLoader(dataset,\n",
    "                                          batch_size=4,\n",
    "                                          shuffle=True,\n",
    "                                         )"
   ]
  },
  {
   "cell_type": "code",
   "execution_count": 10,
   "metadata": {},
   "outputs": [],
   "source": [
    "num_epochs=1"
   ]
  },
  {
   "cell_type": "code",
   "execution_count": 11,
   "metadata": {},
   "outputs": [
    {
     "name": "stdout",
     "output_type": "stream",
     "text": [
      "освобождение памяти\n",
      "torch.Size([64, 512, 512, 3]) 1\n",
      "освобождение памяти\n",
      "torch.Size([64, 512, 512, 3]) 2\n",
      "освобождение памяти\n",
      "torch.Size([64, 512, 512, 3]) 3\n",
      "освобождение памяти\n",
      "torch.Size([64, 512, 512, 3]) 4\n",
      "освобождение памяти\n",
      "torch.Size([64, 512, 512, 3]) 5\n",
      "освобождение памяти\n",
      "torch.Size([64, 512, 512, 3]) 6\n",
      "освобождение памяти\n",
      "torch.Size([64, 512, 512, 3]) 7\n",
      "освобождение памяти\n",
      "torch.Size([64, 512, 512, 3]) 8\n",
      "освобождение памяти\n",
      "torch.Size([64, 512, 512, 3]) 9\n",
      "освобождение памяти\n",
      "torch.Size([64, 512, 512, 3]) 10\n",
      "освобождение памяти\n",
      "torch.Size([64, 512, 512, 3]) 11\n",
      "освобождение памяти\n",
      "torch.Size([64, 512, 512, 3]) 12\n",
      "освобождение памяти\n",
      "torch.Size([64, 512, 512, 3]) 13\n",
      "освобождение памяти\n",
      "torch.Size([64, 512, 512, 3]) 14\n",
      "освобождение памяти\n",
      "torch.Size([64, 512, 512, 3]) 15\n",
      "освобождение памяти\n",
      "torch.Size([64, 512, 512, 3]) 16\n",
      "освобождение памяти\n",
      "torch.Size([64, 512, 512, 3]) 17\n",
      "освобождение памяти\n",
      "torch.Size([64, 512, 512, 3]) 18\n",
      "освобождение памяти\n",
      "torch.Size([64, 512, 512, 3]) 19\n",
      "освобождение памяти\n",
      "torch.Size([64, 512, 512, 3]) 20\n",
      "освобождение памяти\n",
      "torch.Size([64, 512, 512, 3]) 21\n",
      "освобождение памяти\n",
      "torch.Size([64, 512, 512, 3]) 22\n",
      "освобождение памяти\n",
      "torch.Size([64, 512, 512, 3]) 23\n",
      "освобождение памяти\n",
      "torch.Size([64, 512, 512, 3]) 24\n",
      "освобождение памяти\n",
      "torch.Size([64, 512, 512, 3]) 25\n",
      "освобождение памяти\n",
      "torch.Size([64, 512, 512, 3]) 26\n",
      "освобождение памяти\n",
      "torch.Size([64, 512, 512, 3]) 27\n",
      "освобождение памяти\n",
      "torch.Size([64, 512, 512, 3]) 28\n",
      "освобождение памяти\n",
      "torch.Size([64, 512, 512, 3]) 29\n",
      "освобождение памяти\n",
      "torch.Size([64, 512, 512, 3]) 30\n",
      "освобождение памяти\n",
      "torch.Size([64, 512, 512, 3]) 31\n",
      "освобождение памяти\n",
      "torch.Size([192, 1040, 1040, 3]) 32\n",
      "освобождение памяти\n",
      "torch.Size([64, 512, 512, 3]) 33\n",
      "освобождение памяти\n",
      "torch.Size([64, 512, 512, 3]) 34\n",
      "освобождение памяти\n",
      "torch.Size([64, 512, 512, 3]) 35\n",
      "освобождение памяти\n",
      "torch.Size([64, 512, 512, 3]) 36\n",
      "освобождение памяти\n",
      "torch.Size([64, 512, 512, 3]) 37\n",
      "освобождение памяти\n",
      "torch.Size([64, 512, 512, 3]) 38\n",
      "освобождение памяти\n",
      "torch.Size([64, 512, 512, 3]) 39\n",
      "освобождение памяти\n",
      "torch.Size([64, 512, 512, 3]) 40\n",
      "освобождение памяти\n",
      "torch.Size([64, 512, 512, 3]) 41\n",
      "освобождение памяти\n",
      "torch.Size([64, 512, 512, 3]) 42\n",
      "освобождение памяти\n",
      "torch.Size([95, 512, 512, 3]) 43\n",
      "освобождение памяти\n",
      "torch.Size([64, 512, 512, 3]) 44\n",
      "освобождение памяти\n",
      "torch.Size([64, 512, 512, 3]) 45\n",
      "освобождение памяти\n",
      "torch.Size([64, 512, 512, 3]) 46\n",
      "освобождение памяти\n",
      "torch.Size([64, 512, 512, 3]) 47\n",
      "освобождение памяти\n",
      "torch.Size([64, 512, 512, 3]) 48\n",
      "освобождение памяти\n",
      "torch.Size([100, 1112, 1112, 3]) 49\n",
      "освобождение памяти\n",
      "torch.Size([64, 512, 512, 3]) 50\n",
      "освобождение памяти\n",
      "torch.Size([64, 512, 512, 3]) 51\n",
      "освобождение памяти\n",
      "torch.Size([64, 512, 512, 3]) 52\n",
      "освобождение памяти\n",
      "torch.Size([64, 512, 512, 3]) 53\n",
      "освобождение памяти\n",
      "torch.Size([64, 512, 512, 3]) 54\n",
      "освобождение памяти\n",
      "torch.Size([64, 512, 512, 3]) 55\n",
      "освобождение памяти\n",
      "torch.Size([97, 1008, 1008, 3]) 56\n",
      "освобождение памяти\n",
      "torch.Size([93, 980, 980, 3]) 57\n",
      "освобождение памяти\n",
      "torch.Size([64, 512, 512, 3]) 58\n",
      "освобождение памяти\n",
      "torch.Size([64, 512, 512, 3]) 59\n",
      "освобождение памяти\n",
      "torch.Size([195, 1206, 1206, 3]) 60\n",
      "освобождение памяти\n",
      "torch.Size([64, 512, 512, 3]) 61\n",
      "освобождение памяти\n",
      "torch.Size([64, 512, 512, 3]) 62\n",
      "освобождение памяти\n",
      "torch.Size([64, 512, 512, 3]) 63\n",
      "освобождение памяти\n",
      "torch.Size([64, 512, 512, 3]) 64\n",
      "освобождение памяти\n",
      "torch.Size([64, 512, 512, 3]) 65\n",
      "освобождение памяти\n",
      "torch.Size([64, 512, 512, 3]) 66\n",
      "освобождение памяти\n",
      "torch.Size([64, 512, 512, 3]) 67\n",
      "освобождение памяти\n",
      "torch.Size([64, 512, 512, 3]) 68\n",
      "освобождение памяти\n",
      "torch.Size([64, 512, 512, 3]) 69\n",
      "освобождение памяти\n",
      "torch.Size([64, 512, 512, 3]) 70\n"
     ]
    },
    {
     "ename": "KeyboardInterrupt",
     "evalue": "",
     "output_type": "error",
     "traceback": [
      "\u001b[0;31m---------------------------------------------------------------------------\u001b[0m",
      "\u001b[0;31mKeyboardInterrupt\u001b[0m                         Traceback (most recent call last)",
      "Cell \u001b[0;32mIn[11], line 5\u001b[0m\n\u001b[1;32m      3\u001b[0m \u001b[38;5;28;01mfor\u001b[39;00m i \u001b[38;5;129;01min\u001b[39;00m \u001b[38;5;28mrange\u001b[39m(\u001b[38;5;241m200\u001b[39m):\n\u001b[1;32m      4\u001b[0m     vid,text\u001b[38;5;241m=\u001b[39mdataset[i]\n\u001b[0;32m----> 5\u001b[0m     r_videos\u001b[38;5;241m=\u001b[39m\u001b[43mvideo_to_tensor\u001b[49m\u001b[43m(\u001b[49m\u001b[43mvid\u001b[49m\u001b[43m,\u001b[49m\u001b[43mdevice\u001b[49m\u001b[43m)\u001b[49m\n\u001b[1;32m      6\u001b[0m     running_loss\u001b[38;5;241m+\u001b[39m\u001b[38;5;241m=\u001b[39m\u001b[38;5;241m1\u001b[39m\n\u001b[1;32m      9\u001b[0m     \u001b[38;5;66;03m#r_img = r_videos[:, :, np.random.randint(0, 1), :, :]\u001b[39;00m\n",
      "File \u001b[0;32m~/Рабочий стол/GAN/tools.py:55\u001b[0m, in \u001b[0;36mvideo_to_tensor\u001b[0;34m(video_path, device)\u001b[0m\n\u001b[1;32m     54\u001b[0m \u001b[38;5;28;01mdef\u001b[39;00m \u001b[38;5;21mvideo_to_tensor\u001b[39m(video_path, device):\n\u001b[0;32m---> 55\u001b[0m     video, _, _ \u001b[38;5;241m=\u001b[39m \u001b[43mtorchvision\u001b[49m\u001b[38;5;241;43m.\u001b[39;49m\u001b[43mio\u001b[49m\u001b[38;5;241;43m.\u001b[39;49m\u001b[43mread_video\u001b[49m\u001b[43m(\u001b[49m\u001b[38;5;124;43m'\u001b[39;49m\u001b[38;5;124;43m/home/alex/Рабочий стол/GAN/video/\u001b[39;49m\u001b[38;5;124;43m'\u001b[39;49m\u001b[43m \u001b[49m\u001b[38;5;241;43m+\u001b[39;49m\u001b[43m \u001b[49m\u001b[43mvideo_path\u001b[49m\u001b[43m,\u001b[49m\u001b[43m \u001b[49m\u001b[43mpts_unit\u001b[49m\u001b[38;5;241;43m=\u001b[39;49m\u001b[38;5;124;43m'\u001b[39;49m\u001b[38;5;124;43msec\u001b[39;49m\u001b[38;5;124;43m'\u001b[39;49m\u001b[43m)\u001b[49m\n\u001b[1;32m     56\u001b[0m     video_tensor \u001b[38;5;241m=\u001b[39m video\u001b[38;5;241m.\u001b[39mto(device)\n\u001b[1;32m     57\u001b[0m     \u001b[38;5;28mprint\u001b[39m(\u001b[38;5;124m'\u001b[39m\u001b[38;5;124mосвобождение памяти\u001b[39m\u001b[38;5;124m'\u001b[39m)\n",
      "File \u001b[0;32m~/Рабочий стол/GAN/GANenv/lib/python3.10/site-packages/torchvision/io/video.py:324\u001b[0m, in \u001b[0;36mread_video\u001b[0;34m(filename, start_pts, end_pts, pts_unit, output_format)\u001b[0m\n\u001b[1;32m    320\u001b[0m \u001b[38;5;28;01mexcept\u001b[39;00m av\u001b[38;5;241m.\u001b[39mAVError:\n\u001b[1;32m    321\u001b[0m     \u001b[38;5;66;03m# TODO raise a warning?\u001b[39;00m\n\u001b[1;32m    322\u001b[0m     \u001b[38;5;28;01mpass\u001b[39;00m\n\u001b[0;32m--> 324\u001b[0m vframes_list \u001b[38;5;241m=\u001b[39m [frame\u001b[38;5;241m.\u001b[39mto_rgb()\u001b[38;5;241m.\u001b[39mto_ndarray() \u001b[38;5;28;01mfor\u001b[39;00m frame \u001b[38;5;129;01min\u001b[39;00m video_frames]\n\u001b[1;32m    325\u001b[0m aframes_list \u001b[38;5;241m=\u001b[39m [frame\u001b[38;5;241m.\u001b[39mto_ndarray() \u001b[38;5;28;01mfor\u001b[39;00m frame \u001b[38;5;129;01min\u001b[39;00m audio_frames]\n\u001b[1;32m    327\u001b[0m \u001b[38;5;28;01mif\u001b[39;00m vframes_list:\n",
      "File \u001b[0;32m~/Рабочий стол/GAN/GANenv/lib/python3.10/site-packages/torchvision/io/video.py:324\u001b[0m, in \u001b[0;36m<listcomp>\u001b[0;34m(.0)\u001b[0m\n\u001b[1;32m    320\u001b[0m \u001b[38;5;28;01mexcept\u001b[39;00m av\u001b[38;5;241m.\u001b[39mAVError:\n\u001b[1;32m    321\u001b[0m     \u001b[38;5;66;03m# TODO raise a warning?\u001b[39;00m\n\u001b[1;32m    322\u001b[0m     \u001b[38;5;28;01mpass\u001b[39;00m\n\u001b[0;32m--> 324\u001b[0m vframes_list \u001b[38;5;241m=\u001b[39m [\u001b[43mframe\u001b[49m\u001b[38;5;241;43m.\u001b[39;49m\u001b[43mto_rgb\u001b[49m\u001b[43m(\u001b[49m\u001b[43m)\u001b[49m\u001b[38;5;241;43m.\u001b[39;49m\u001b[43mto_ndarray\u001b[49m\u001b[43m(\u001b[49m\u001b[43m)\u001b[49m \u001b[38;5;28;01mfor\u001b[39;00m frame \u001b[38;5;129;01min\u001b[39;00m video_frames]\n\u001b[1;32m    325\u001b[0m aframes_list \u001b[38;5;241m=\u001b[39m [frame\u001b[38;5;241m.\u001b[39mto_ndarray() \u001b[38;5;28;01mfor\u001b[39;00m frame \u001b[38;5;129;01min\u001b[39;00m audio_frames]\n\u001b[1;32m    327\u001b[0m \u001b[38;5;28;01mif\u001b[39;00m vframes_list:\n",
      "\u001b[0;31mKeyboardInterrupt\u001b[0m: "
     ]
    }
   ],
   "source": [
    "for epoch in range(num_epochs):\n",
    "    running_loss = 0\n",
    "    for i in range(200):\n",
    "        vid=filtered_df['path'][i]\n",
    "        r_videos=video_to_tensor(vid,device)\n",
    "        running_loss+=1\n",
    "        \n",
    "        \n",
    "        #r_img = r_videos[:, :, np.random.randint(0, 1), :, :]\n",
    "        print(r_videos.shape,running_loss)\n",
    "        \n",
    "        del r_videos\n",
    "        torch.cuda.empty_cache()\n",
    "        gc.collect()\n",
    "        #optimizer.zero_grad()  # Обнуление градиентов\n",
    "        #outputs = model(inputs)  # Прямой проход\n",
    "        #loss = criterion(outputs, targets)  # Вычисление потерь\n",
    "        #loss.backward()  # Обратный проход\n",
    "        #optimizer.step()  # Обновление параметров\n",
    "\n",
    "        #running_loss += loss.item()"
   ]
  },
  {
   "cell_type": "code",
   "execution_count": null,
   "metadata": {},
   "outputs": [],
   "source": []
  },
  {
   "cell_type": "code",
   "execution_count": null,
   "metadata": {},
   "outputs": [],
   "source": []
  },
  {
   "cell_type": "code",
   "execution_count": null,
   "metadata": {},
   "outputs": [],
   "source": []
  },
  {
   "cell_type": "code",
   "execution_count": null,
   "metadata": {},
   "outputs": [],
   "source": []
  },
  {
   "cell_type": "code",
   "execution_count": null,
   "metadata": {},
   "outputs": [],
   "source": []
  },
  {
   "cell_type": "code",
   "execution_count": null,
   "metadata": {},
   "outputs": [],
   "source": []
  },
  {
   "cell_type": "code",
   "execution_count": null,
   "metadata": {},
   "outputs": [],
   "source": []
  },
  {
   "cell_type": "code",
   "execution_count": null,
   "metadata": {},
   "outputs": [],
   "source": []
  }
 ],
 "metadata": {
  "kernelspec": {
   "display_name": "Python 3",
   "language": "python",
   "name": "python3"
  },
  "language_info": {
   "codemirror_mode": {
    "name": "ipython",
    "version": 3
   },
   "file_extension": ".py",
   "mimetype": "text/x-python",
   "name": "python",
   "nbconvert_exporter": "python",
   "pygments_lexer": "ipython3",
   "version": "3.10.12"
  }
 },
 "nbformat": 4,
 "nbformat_minor": 2
}
